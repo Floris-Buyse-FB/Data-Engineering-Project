{
 "cells": [
  {
   "attachments": {},
   "cell_type": "markdown",
   "metadata": {},
   "source": [
    "# Tui tussentijdse resultaten berekeningen"
   ]
  },
  {
   "cell_type": "code",
   "execution_count": 1,
   "metadata": {},
   "outputs": [],
   "source": [
    "# Importing the necessary packages\n",
    "import numpy as np                                  # \"Scientific computing\"\n",
    "import scipy.stats as stats                         # Statistical tests\n",
    "\n",
    "import pandas as pd                                 # Data Frame\n",
    "from pandas.api.types import CategoricalDtype\n",
    "\n",
    "import matplotlib.pyplot as plt                     # Basic visualisation\n",
    "from statsmodels.graphics.mosaicplot import mosaic  # Mosaic diagram\n",
    "import seaborn as sns                               # Advanced data visualisation"
   ]
  },
  {
   "attachments": {},
   "cell_type": "markdown",
   "metadata": {},
   "source": [
    "### Read the csv-file"
   ]
  },
  {
   "cell_type": "code",
   "execution_count": 2,
   "metadata": {},
   "outputs": [
    {
     "data": {
      "text/html": [
       "<div>\n",
       "<style scoped>\n",
       "    .dataframe tbody tr th:only-of-type {\n",
       "        vertical-align: middle;\n",
       "    }\n",
       "\n",
       "    .dataframe tbody tr th {\n",
       "        vertical-align: top;\n",
       "    }\n",
       "\n",
       "    .dataframe thead th {\n",
       "        text-align: right;\n",
       "    }\n",
       "</style>\n",
       "<table border=\"1\" class=\"dataframe\">\n",
       "  <thead>\n",
       "    <tr style=\"text-align: right;\">\n",
       "      <th></th>\n",
       "      <th>flightNumber</th>\n",
       "      <th>productId</th>\n",
       "      <th>departureAirportCode</th>\n",
       "      <th>departureAirportName</th>\n",
       "      <th>departureCountryCode</th>\n",
       "      <th>departureDate</th>\n",
       "      <th>departureTime</th>\n",
       "      <th>arrivalAirportCode</th>\n",
       "      <th>arrivalAirportName</th>\n",
       "      <th>arrivalCountryCode</th>\n",
       "      <th>...</th>\n",
       "      <th>totalNumberOfStops</th>\n",
       "      <th>carrierCode</th>\n",
       "      <th>carrierName</th>\n",
       "      <th>availableSeats</th>\n",
       "      <th>isCheapest</th>\n",
       "      <th>airportTax</th>\n",
       "      <th>originalAirportTax</th>\n",
       "      <th>bookingFee</th>\n",
       "      <th>originalBookingFee</th>\n",
       "      <th>isOriginalBooking</th>\n",
       "    </tr>\n",
       "  </thead>\n",
       "  <tbody>\n",
       "    <tr>\n",
       "      <th>0</th>\n",
       "      <td>1941</td>\n",
       "      <td>eJyMkl+L4jAUxb+KXF9vZm7SRKd5a/xTFotdqsVZRKR/4t...</td>\n",
       "      <td>BRU</td>\n",
       "      <td>Brussel</td>\n",
       "      <td>BEL</td>\n",
       "      <td>2023-04-02</td>\n",
       "      <td>13:35</td>\n",
       "      <td>FAO</td>\n",
       "      <td>Faro</td>\n",
       "      <td>PRT</td>\n",
       "      <td>...</td>\n",
       "      <td>NaN</td>\n",
       "      <td>TB</td>\n",
       "      <td>TUI fly</td>\n",
       "      <td>10</td>\n",
       "      <td>False</td>\n",
       "      <td>0.0</td>\n",
       "      <td>0.0</td>\n",
       "      <td>NaN</td>\n",
       "      <td>NaN</td>\n",
       "      <td>False</td>\n",
       "    </tr>\n",
       "    <tr>\n",
       "      <th>1</th>\n",
       "      <td>1171</td>\n",
       "      <td>eJyMklGPmkAUhf+Kub7e2b0DM4rzBkRJI5FmwbiNMYaBoa...</td>\n",
       "      <td>OST</td>\n",
       "      <td>Brugge-Oostende</td>\n",
       "      <td>BEL</td>\n",
       "      <td>2023-04-01</td>\n",
       "      <td>06:00</td>\n",
       "      <td>ALC</td>\n",
       "      <td>Alicante</td>\n",
       "      <td>ESP</td>\n",
       "      <td>...</td>\n",
       "      <td>NaN</td>\n",
       "      <td>TB</td>\n",
       "      <td>TUI fly</td>\n",
       "      <td>10</td>\n",
       "      <td>False</td>\n",
       "      <td>0.0</td>\n",
       "      <td>0.0</td>\n",
       "      <td>NaN</td>\n",
       "      <td>NaN</td>\n",
       "      <td>False</td>\n",
       "    </tr>\n",
       "    <tr>\n",
       "      <th>2</th>\n",
       "      <td>1135</td>\n",
       "      <td>eJyMkkGP2jAQhf8KGq7j3XESA/EtDmxUEaAKRGyFEIoTp0...</td>\n",
       "      <td>BRU</td>\n",
       "      <td>Brussel</td>\n",
       "      <td>BEL</td>\n",
       "      <td>2023-04-01</td>\n",
       "      <td>06:00</td>\n",
       "      <td>ALC</td>\n",
       "      <td>Alicante</td>\n",
       "      <td>ESP</td>\n",
       "      <td>...</td>\n",
       "      <td>NaN</td>\n",
       "      <td>TB</td>\n",
       "      <td>TUI fly</td>\n",
       "      <td>10</td>\n",
       "      <td>False</td>\n",
       "      <td>0.0</td>\n",
       "      <td>0.0</td>\n",
       "      <td>NaN</td>\n",
       "      <td>NaN</td>\n",
       "      <td>False</td>\n",
       "    </tr>\n",
       "    <tr>\n",
       "      <th>3</th>\n",
       "      <td>1101</td>\n",
       "      <td>eJyMklGPmkAUhf+Kub7e2b0DjMq8DcQljYgNatzGGMPA0N...</td>\n",
       "      <td>ANR</td>\n",
       "      <td>Antwerpen</td>\n",
       "      <td>BEL</td>\n",
       "      <td>2023-04-01</td>\n",
       "      <td>06:30</td>\n",
       "      <td>ALC</td>\n",
       "      <td>Alicante</td>\n",
       "      <td>ESP</td>\n",
       "      <td>...</td>\n",
       "      <td>NaN</td>\n",
       "      <td>TB</td>\n",
       "      <td>TUI fly</td>\n",
       "      <td>10</td>\n",
       "      <td>False</td>\n",
       "      <td>0.0</td>\n",
       "      <td>0.0</td>\n",
       "      <td>NaN</td>\n",
       "      <td>NaN</td>\n",
       "      <td>False</td>\n",
       "    </tr>\n",
       "    <tr>\n",
       "      <th>4</th>\n",
       "      <td>1113</td>\n",
       "      <td>eJyMklGL4jAUhf+KXF9vZm7axmremuKUpUWXanEWEWnadO...</td>\n",
       "      <td>BRU</td>\n",
       "      <td>Brussel</td>\n",
       "      <td>BEL</td>\n",
       "      <td>2023-04-01</td>\n",
       "      <td>17:00</td>\n",
       "      <td>ALC</td>\n",
       "      <td>Alicante</td>\n",
       "      <td>ESP</td>\n",
       "      <td>...</td>\n",
       "      <td>NaN</td>\n",
       "      <td>TB</td>\n",
       "      <td>TUI fly</td>\n",
       "      <td>10</td>\n",
       "      <td>True</td>\n",
       "      <td>0.0</td>\n",
       "      <td>0.0</td>\n",
       "      <td>NaN</td>\n",
       "      <td>NaN</td>\n",
       "      <td>False</td>\n",
       "    </tr>\n",
       "  </tbody>\n",
       "</table>\n",
       "<p>5 rows × 26 columns</p>\n",
       "</div>"
      ],
      "text/plain": [
       "   flightNumber                                          productId  \\\n",
       "0          1941  eJyMkl+L4jAUxb+KXF9vZm7SRKd5a/xTFotdqsVZRKR/4t...   \n",
       "1          1171  eJyMklGPmkAUhf+Kub7e2b0DM4rzBkRJI5FmwbiNMYaBoa...   \n",
       "2          1135  eJyMkkGP2jAQhf8KGq7j3XESA/EtDmxUEaAKRGyFEIoTp0...   \n",
       "3          1101  eJyMklGPmkAUhf+Kub7e2b0DjMq8DcQljYgNatzGGMPA0N...   \n",
       "4          1113  eJyMklGL4jAUhf+KXF9vZm7axmremuKUpUWXanEWEWnadO...   \n",
       "\n",
       "  departureAirportCode departureAirportName departureCountryCode  \\\n",
       "0                  BRU              Brussel                  BEL   \n",
       "1                  OST      Brugge-Oostende                  BEL   \n",
       "2                  BRU              Brussel                  BEL   \n",
       "3                  ANR            Antwerpen                  BEL   \n",
       "4                  BRU              Brussel                  BEL   \n",
       "\n",
       "  departureDate departureTime arrivalAirportCode arrivalAirportName  \\\n",
       "0    2023-04-02         13:35                FAO               Faro   \n",
       "1    2023-04-01         06:00                ALC           Alicante   \n",
       "2    2023-04-01         06:00                ALC           Alicante   \n",
       "3    2023-04-01         06:30                ALC           Alicante   \n",
       "4    2023-04-01         17:00                ALC           Alicante   \n",
       "\n",
       "  arrivalCountryCode  ... totalNumberOfStops carrierCode  carrierName  \\\n",
       "0                PRT  ...                NaN          TB      TUI fly   \n",
       "1                ESP  ...                NaN          TB      TUI fly   \n",
       "2                ESP  ...                NaN          TB      TUI fly   \n",
       "3                ESP  ...                NaN          TB      TUI fly   \n",
       "4                ESP  ...                NaN          TB      TUI fly   \n",
       "\n",
       "   availableSeats isCheapest airportTax  originalAirportTax bookingFee  \\\n",
       "0              10      False        0.0                 0.0        NaN   \n",
       "1              10      False        0.0                 0.0        NaN   \n",
       "2              10      False        0.0                 0.0        NaN   \n",
       "3              10      False        0.0                 0.0        NaN   \n",
       "4              10       True        0.0                 0.0        NaN   \n",
       "\n",
       "  originalBookingFee  isOriginalBooking  \n",
       "0                NaN              False  \n",
       "1                NaN              False  \n",
       "2                NaN              False  \n",
       "3                NaN              False  \n",
       "4                NaN              False  \n",
       "\n",
       "[5 rows x 26 columns]"
      ]
     },
     "execution_count": 2,
     "metadata": {},
     "output_type": "execute_result"
    }
   ],
   "source": [
    "tui = pd.read_csv(\"data/tuifly/tuiFlyScrapeData_2023-03-09.csv\")\n",
    "tui.head()               # Importing the data"
   ]
  },
  {
   "attachments": {},
   "cell_type": "markdown",
   "metadata": {},
   "source": [
    "##### Brugge-Oostende - Brindisi | Aantal vluchten | augustus"
   ]
  },
  {
   "cell_type": "code",
   "execution_count": 23,
   "metadata": {},
   "outputs": [
    {
     "data": {
      "text/plain": [
       "0"
      ]
     },
     "execution_count": 23,
     "metadata": {},
     "output_type": "execute_result"
    }
   ],
   "source": [
    "len(tui.query(\"departureAirportName == 'Brugge-Oostende' and arrivalAirportName == 'Brindisi' and (departureDate >= '2023-08-01' and departureDate <= '2023-08-31')\"))"
   ]
  },
  {
   "attachments": {},
   "cell_type": "markdown",
   "metadata": {},
   "source": [
    "##### Antwerpen-Alicante | Gemiddelde prijs | juni"
   ]
  },
  {
   "cell_type": "code",
   "execution_count": 18,
   "metadata": {},
   "outputs": [
    {
     "data": {
      "text/plain": [
       "177.1775"
      ]
     },
     "execution_count": 18,
     "metadata": {},
     "output_type": "execute_result"
    }
   ],
   "source": [
    "tui.query(\"departureAirportName == 'Antwerpen' and arrivalAirportName == 'Alicante' and (departureDate >= '2023-06-01' and departureDate <= '2023-06-31')\").adultPrice.mean()"
   ]
  },
  {
   "attachments": {},
   "cell_type": "markdown",
   "metadata": {},
   "source": [
    "##### Brussel-Corfu | Aantal vluchten | mei"
   ]
  },
  {
   "cell_type": "code",
   "execution_count": 29,
   "metadata": {},
   "outputs": [
    {
     "data": {
      "text/plain": [
       "15"
      ]
     },
     "execution_count": 29,
     "metadata": {},
     "output_type": "execute_result"
    }
   ],
   "source": [
    "len(tui.query(\"departureAirportName == 'Brussel' and arrivalAirportCode == 'CFU' and (departureDate >= '2023-05-01' and departureDate <= '2023-05-31')\"))"
   ]
  },
  {
   "attachments": {},
   "cell_type": "markdown",
   "metadata": {},
   "source": [
    "##### Luik-Rhodos | gemiddelde prijs | april"
   ]
  },
  {
   "cell_type": "code",
   "execution_count": 30,
   "metadata": {},
   "outputs": [
    {
     "data": {
      "text/plain": [
       "264.99"
      ]
     },
     "execution_count": 30,
     "metadata": {},
     "output_type": "execute_result"
    }
   ],
   "source": [
    "tui.query(\"departureAirportCode == 'LGG' and arrivalAirportCode == 'RHO' and (departureDate >= '2023-04-01' and departureDate <= '2023-04-31')\").adultPrice.mean()"
   ]
  },
  {
   "attachments": {},
   "cell_type": "markdown",
   "metadata": {},
   "source": [
    "##### Brussel-Brindisi | vertrekuur | 18 juli"
   ]
  },
  {
   "cell_type": "code",
   "execution_count": 31,
   "metadata": {},
   "outputs": [
    {
     "data": {
      "text/plain": [
       "1292    15:15\n",
       "Name: departureTime, dtype: object"
      ]
     },
     "execution_count": 31,
     "metadata": {},
     "output_type": "execute_result"
    }
   ],
   "source": [
    "tui.query(\"departureAirportCode == 'BRU' and arrivalAirportCode == 'BDS' and departureDate == '2023-07-18'\").departureTime"
   ]
  },
  {
   "attachments": {},
   "cell_type": "markdown",
   "metadata": {},
   "source": [
    "##### Luik-Alicante | aankomstuur | 19 juni"
   ]
  },
  {
   "cell_type": "code",
   "execution_count": 33,
   "metadata": {},
   "outputs": [
    {
     "data": {
      "text/plain": [
       "936    08:45\n",
       "Name: arrivalTime, dtype: object"
      ]
     },
     "execution_count": 33,
     "metadata": {},
     "output_type": "execute_result"
    }
   ],
   "source": [
    "tui.query(\"departureAirportCode == 'LGG' and arrivalAirportCode == 'AGP' and departureDate == '2023-06-19'\").arrivalTime"
   ]
  },
  {
   "attachments": {},
   "cell_type": "markdown",
   "metadata": {},
   "source": [
    "##### Brussel-Corfu | aantal tussenstops | 23 mei"
   ]
  },
  {
   "cell_type": "code",
   "execution_count": 34,
   "metadata": {},
   "outputs": [
    {
     "data": {
      "text/plain": [
       "516   NaN\n",
       "Name: totalNumberOfStops, dtype: float64"
      ]
     },
     "execution_count": 34,
     "metadata": {},
     "output_type": "execute_result"
    }
   ],
   "source": [
    "tui.query(\"departureAirportCode == 'BRU' and arrivalAirportCode == 'CFU' and departureDate == '2023-05-23'\").totalNumberOfStops"
   ]
  },
  {
   "attachments": {},
   "cell_type": "markdown",
   "metadata": {},
   "source": [
    "##### Brugge-Oostende - Rhodos | aantal beschikbare plaatsen | 30 mei"
   ]
  },
  {
   "cell_type": "code",
   "execution_count": 35,
   "metadata": {},
   "outputs": [
    {
     "data": {
      "text/plain": [
       "621    10\n",
       "Name: availableSeats, dtype: int64"
      ]
     },
     "execution_count": 35,
     "metadata": {},
     "output_type": "execute_result"
    }
   ],
   "source": [
    "tui.query(\"departureAirportCode == 'OST' and arrivalAirportCode == 'RHO' and departureDate == '2023-05-30'\").availableSeats"
   ]
  }
 ],
 "metadata": {
  "kernelspec": {
   "display_name": "Python 3",
   "language": "python",
   "name": "python3"
  },
  "language_info": {
   "codemirror_mode": {
    "name": "ipython",
    "version": 3
   },
   "file_extension": ".py",
   "mimetype": "text/x-python",
   "name": "python",
   "nbconvert_exporter": "python",
   "pygments_lexer": "ipython3",
   "version": "3.10.10"
  },
  "orig_nbformat": 4
 },
 "nbformat": 4,
 "nbformat_minor": 2
}
